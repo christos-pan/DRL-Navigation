{
 "cells": [
  {
   "cell_type": "markdown",
   "metadata": {},
   "source": [
    "# Navigation"
   ]
  },
  {
   "cell_type": "code",
   "execution_count": 1,
   "metadata": {},
   "outputs": [
    {
     "name": "stdout",
     "output_type": "stream",
     "text": [
      "\u001b[31mtensorflow 1.7.1 has requirement numpy>=1.13.3, but you'll have numpy 1.12.1 which is incompatible.\u001b[0m\r\n",
      "\u001b[31mipython 6.5.0 has requirement prompt-toolkit<2.0.0,>=1.0.15, but you'll have prompt-toolkit 3.0.4 which is incompatible.\u001b[0m\r\n"
     ]
    }
   ],
   "source": [
    "!pip -q install ./python"
   ]
  },
  {
   "cell_type": "code",
   "execution_count": 2,
   "metadata": {},
   "outputs": [
    {
     "name": "stderr",
     "output_type": "stream",
     "text": [
      "INFO:unityagents:\n",
      "'Academy' started successfully!\n",
      "Unity Academy name: Academy\n",
      "        Number of Brains: 1\n",
      "        Number of External Brains : 1\n",
      "        Lesson number : 0\n",
      "        Reset Parameters :\n",
      "\t\t\n",
      "Unity brain name: BananaBrain\n",
      "        Number of Visual Observations (per agent): 0\n",
      "        Vector Observation space type: continuous\n",
      "        Vector Observation space size (per agent): 37\n",
      "        Number of stacked Vector Observation: 1\n",
      "        Vector Action space type: discrete\n",
      "        Vector Action space size (per agent): 4\n",
      "        Vector Action descriptions: , , , \n"
     ]
    },
    {
     "name": "stdout",
     "output_type": "stream",
     "text": [
      "Episode 10\tAverage Score: 0.30\n",
      "Episode 20\tAverage Score: 0.157\n",
      "Episode 30\tAverage Score: 0.23\n",
      "Episode 40\tAverage Score: 0.38\n",
      "Episode 50\tAverage Score: 0.38\n",
      "Episode 60\tAverage Score: 0.50\n",
      "Episode 70\tAverage Score: 0.64\n",
      "Episode 80\tAverage Score: 0.72\n",
      "Episode 90\tAverage Score: 0.80\n",
      "Episode 100\tAverage Score: 0.89\n",
      "Episode 110\tAverage Score: 1.26\n",
      "Episode 120\tAverage Score: 1.60\n",
      "Episode 130\tAverage Score: 1.94\n",
      "Episode 140\tAverage Score: 2.40\n",
      "Episode 150\tAverage Score: 2.73\n",
      "Episode 160\tAverage Score: 3.21\n",
      "Episode 170\tAverage Score: 3.58\n",
      "Episode 180\tAverage Score: 3.88\n",
      "Episode 190\tAverage Score: 4.31\n",
      "Episode 200\tAverage Score: 4.88\n",
      "Episode 210\tAverage Score: 5.11\n",
      "Episode 220\tAverage Score: 5.42\n",
      "Episode 230\tAverage Score: 5.87\n",
      "Episode 240\tAverage Score: 6.09\n",
      "Episode 250\tAverage Score: 6.29\n",
      "Episode 260\tAverage Score: 6.50\n",
      "Episode 270\tAverage Score: 6.76\n",
      "Episode 280\tAverage Score: 7.15\n",
      "Episode 290\tAverage Score: 7.58\n",
      "Episode 300\tAverage Score: 7.87\n",
      "Episode 310\tAverage Score: 8.29\n",
      "Episode 320\tAverage Score: 8.31\n",
      "Episode 330\tAverage Score: 8.53\n",
      "Episode 340\tAverage Score: 8.71\n",
      "Episode 350\tAverage Score: 9.34\n",
      "Episode 360\tAverage Score: 9.62\n",
      "Episode 370\tAverage Score: 10.00\n",
      "Episode 380\tAverage Score: 10.47\n",
      "Episode 390\tAverage Score: 10.72\n",
      "Episode 400\tAverage Score: 10.68\n",
      "Episode 410\tAverage Score: 11.12\n",
      "Episode 420\tAverage Score: 11.72\n",
      "Episode 430\tAverage Score: 12.13\n",
      "Episode 440\tAverage Score: 12.49\n",
      "Episode 450\tAverage Score: 12.69\n",
      "Episode 457\tAverage Score: 13.01\n",
      "Environment solved in 457 episodes!\tAverage Score: 13.01\n"
     ]
    },
    {
     "data": {
      "image/png": "[encoded data removed]",
      "text/plain": [
       "<matplotlib.figure.Figure at 0x7f9953ce6208>"
      ]
     },
     "metadata": {
      "needs_background": "light"
     },
     "output_type": "display_data"
    }
   ],
   "source": [
    "from unityagents import UnityEnvironment\n",
    "import numpy as np\n",
    "import random\n",
    "import torch\n",
    "from collections import deque\n",
    "from double_dqn_agent import Agent\n",
    "import matplotlib.pyplot as plt\n",
    "%matplotlib inline\n",
    "\n",
    "def dqn(n_episodes=1000, max_t=400, eps_start=1.0, eps_end=0.01, eps_decay=0.995):\n",
    "    \"\"\"Deep Q-Learning.\n",
    "    \n",
    "    Params\n",
    "    ======\n",
    "        n_episodes (int): maximum number of training episodes\n",
    "        max_t (int): maximum number of timesteps per episode\n",
    "        eps_start (float): starting value of epsilon, for epsilon-greedy action selection\n",
    "        eps_end (float): minimum value of epsilon\n",
    "        eps_decay (float): multiplicative factor (per episode) for decreasing epsilon\n",
    "    \"\"\"\n",
    "    agent = Agent(state_size=37, action_size=4, seed=0)\n",
    "\n",
    "    env = UnityEnvironment(file_name=\"/data/Banana_Linux_NoVis/Banana.x86_64\")\n",
    "\n",
    "    brain_name = env.brain_names[0]\n",
    "    brain = env.brains[brain_name]\n",
    "\n",
    "    scores = []                        # list containing scores from each episode\n",
    "    scores_window = deque(maxlen=100)  # last 100 scores\n",
    "    eps = eps_start                    # initialize epsilon\n",
    "    for i_episode in range(1, n_episodes+1):\n",
    "        env_info = env.reset(train_mode=True)[brain_name] # reset the environment\n",
    "        state = env_info.vector_observations[0]            # get the current state\n",
    "        score = 0\n",
    "        for t in range(max_t):\n",
    "            action = agent.act(state, eps)\n",
    "            env_info = env.step(action)[brain_name]        # send the action to the environment\n",
    "            next_state = env_info.vector_observations[0]   # get the next state\n",
    "            reward = env_info.rewards[0]                   # get the reward\n",
    "            done = env_info.local_done[0]                  # see if episode has finished\n",
    "            agent.step(state, action, reward, next_state, done)\n",
    "            state = next_state\n",
    "            score += reward\n",
    "            if done:\n",
    "                break \n",
    "        scores_window.append(score)       # save most recent score\n",
    "        scores.append(score)              # save most recent score\n",
    "        eps = max(eps_end, eps_decay*eps) # decrease epsilon\n",
    "        print('\\rEpisode {}\\tAverage Score: {:.2f}'.format(i_episode, np.mean(scores_window)), end=\"\")\n",
    "        if i_episode % 10 == 0:\n",
    "            print('\\rEpisode {}\\tAverage Score: {:.2f}'.format(i_episode, np.mean(scores_window)))\n",
    "        if np.mean(scores_window)>=13.0:\n",
    "            print('\\nEnvironment solved in {:d} episodes!\\tAverage Score: {:.2f}'.format(i_episode, np.mean(scores_window)))\n",
    "            torch.save(agent.qnetwork_local.state_dict(), 'model.pth')\n",
    "            break\n",
    "        \n",
    "    env.close()\n",
    "    return scores\n",
    "\n",
    "scores = dqn()\n",
    "\n",
    "# plot the scores\n",
    "fig = plt.figure()\n",
    "ax = fig.add_subplot(111)\n",
    "plt.plot(np.arange(len(scores)), scores)\n",
    "plt.ylabel('Score')\n",
    "plt.xlabel('Episode #')\n",
    "plt.show()"
   ]
  }
 ],
 "metadata": {
  "kernelspec": {
   "display_name": "Python 3",
   "language": "python",
   "name": "python3"
  },
  "language_info": {
   "codemirror_mode": {
    "name": "ipython",
    "version": 3
   },
   "file_extension": ".py",
   "mimetype": "text/x-python",
   "name": "python",
   "nbconvert_exporter": "python",
   "pygments_lexer": "ipython3",
   "version": "3.6.3"
  }
 },
 "nbformat": 4,
 "nbformat_minor": 2
}
