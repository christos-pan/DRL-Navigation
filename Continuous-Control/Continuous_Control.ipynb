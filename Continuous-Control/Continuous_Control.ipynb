{
 "cells": [
  {
   "cell_type": "code",
   "execution_count": 1,
   "metadata": {},
   "outputs": [
    {
     "name": "stdout",
     "output_type": "stream",
     "text": [
      "\u001b[31mtensorflow 1.7.1 has requirement numpy>=1.13.3, but you'll have numpy 1.12.1 which is incompatible.\u001b[0m\r\n",
      "\u001b[31mipython 6.5.0 has requirement prompt-toolkit<2.0.0,>=1.0.15, but you'll have prompt-toolkit 3.0.5 which is incompatible.\u001b[0m\r\n"
     ]
    }
   ],
   "source": [
    "!pip -q install ./python"
   ]
  },
  {
   "cell_type": "code",
   "execution_count": 2,
   "metadata": {},
   "outputs": [
    {
     "name": "stderr",
     "output_type": "stream",
     "text": [
      "INFO:unityagents:\n",
      "'Academy' started successfully!\n",
      "Unity Academy name: Academy\n",
      "        Number of Brains: 1\n",
      "        Number of External Brains : 1\n",
      "        Lesson number : 0\n",
      "        Reset Parameters :\n",
      "\t\tgoal_speed -> 1.0\n",
      "\t\tgoal_size -> 5.0\n",
      "Unity brain name: ReacherBrain\n",
      "        Number of Visual Observations (per agent): 0\n",
      "        Vector Observation space type: continuous\n",
      "        Vector Observation space size (per agent): 33\n",
      "        Number of stacked Vector Observation: 1\n",
      "        Vector Action space type: continuous\n",
      "        Vector Action space size (per agent): 4\n",
      "        Vector Action descriptions: , , , \n"
     ]
    }
   ],
   "source": [
    "from unityagents import UnityEnvironment\n",
    "\n",
    "# Load the environment with 20 agents\n",
    "env = UnityEnvironment(file_name='/data/Reacher_Linux_NoVis/Reacher.x86_64')\n",
    "\n",
    "# get the default brain\n",
    "brain_name = env.brain_names[0]\n",
    "brain = env.brains[brain_name]\n",
    "\n",
    "env_info = env.reset(train_mode=True)[brain_name]\n",
    "num_agents = len(env_info.agents)"
   ]
  },
  {
   "cell_type": "code",
   "execution_count": 3,
   "metadata": {},
   "outputs": [],
   "source": [
    "from ddpg_agent import Agent\n",
    "\n",
    "agent = Agent(state_size=33, action_size=4, num_agents=num_agents, random_seed=10)"
   ]
  },
  {
   "cell_type": "code",
   "execution_count": 4,
   "metadata": {},
   "outputs": [
    {
     "name": "stdout",
     "output_type": "stream",
     "text": [
      "Episode 10\tCumulative Average Score: 2.19\tScore: 4.34\n",
      "Episode 20\tCumulative Average Score: 4.17\tScore: 6.49\n",
      "Episode 30\tCumulative Average Score: 5.66\tScore: 7.70\n",
      "Episode 40\tCumulative Average Score: 6.24\tScore: 8.77\n",
      "Episode 50\tCumulative Average Score: 6.95\tScore: 9.235\n",
      "Episode 60\tCumulative Average Score: 7.50\tScore: 13.20\n",
      "Episode 70\tCumulative Average Score: 7.97\tScore: 8.543\n",
      "Episode 80\tCumulative Average Score: 8.44\tScore: 12.51\n",
      "Episode 90\tCumulative Average Score: 8.95\tScore: 13.94\n",
      "Episode 100\tCumulative Average Score: 9.45\tScore: 14.21\n",
      "Episode 110\tCumulative Average Score: 10.52\tScore: 11.84\n",
      "Episode 120\tCumulative Average Score: 11.32\tScore: 15.76\n",
      "Episode 130\tCumulative Average Score: 11.86\tScore: 15.28\n",
      "Episode 140\tCumulative Average Score: 12.89\tScore: 21.01\n",
      "Episode 150\tCumulative Average Score: 14.02\tScore: 21.16\n",
      "Episode 160\tCumulative Average Score: 15.10\tScore: 22.65\n",
      "Episode 170\tCumulative Average Score: 16.16\tScore: 18.76\n",
      "Episode 180\tCumulative Average Score: 17.11\tScore: 20.14\n",
      "Episode 190\tCumulative Average Score: 17.91\tScore: 21.63\n",
      "Episode 200\tCumulative Average Score: 18.67\tScore: 21.43\n",
      "Episode 210\tCumulative Average Score: 19.68\tScore: 26.98\n",
      "Episode 220\tCumulative Average Score: 20.92\tScore: 27.14\n",
      "Episode 230\tCumulative Average Score: 21.89\tScore: 22.96\n",
      "Episode 240\tCumulative Average Score: 22.70\tScore: 32.59\n",
      "Episode 250\tCumulative Average Score: 23.76\tScore: 33.53\n",
      "Episode 260\tCumulative Average Score: 24.95\tScore: 37.66\n",
      "Episode 270\tCumulative Average Score: 26.43\tScore: 36.89\n",
      "Episode 280\tCumulative Average Score: 27.82\tScore: 36.56\n",
      "Episode 290\tCumulative Average Score: 29.08\tScore: 35.26\n",
      "Environment solved in 297 episodes\tCumulative Average Score: 30.00\n"
     ]
    },
    {
     "data": {
      "image/png": "[encoded data removed]",
      "text/plain": [
       "<matplotlib.figure.Figure at 0x7fa53d208588>"
      ]
     },
     "metadata": {
      "needs_background": "light"
     },
     "output_type": "display_data"
    }
   ],
   "source": [
    "import numpy as np\n",
    "from collections import deque\n",
    "import torch\n",
    "import matplotlib.pyplot as plt\n",
    "%matplotlib inline\n",
    "\n",
    "def ddpg(n_episodes=1000, max_t=2000):\n",
    "    avg_scores_deque = deque(maxlen=100)\n",
    "    avg_scores = []\n",
    "    max_avg_score = -np.Inf\n",
    "    for i_episode in range(1, n_episodes+1):\n",
    "        env_info = env.reset(train_mode=True)[brain_name]\n",
    "        states = env_info.vector_observations\n",
    "        scores = np.zeros(num_agents)\n",
    "        for t in range(max_t):\n",
    "            actions = agent.act(states)\n",
    "            env_info = env.step(actions)[brain_name]\n",
    "            next_states = env_info.vector_observations         \n",
    "            rewards = np.array(env_info.rewards)    \n",
    "            dones = env_info.local_done      \n",
    "            agent.step(states, actions, rewards, next_states, dones)\n",
    "            states = next_states\n",
    "            scores += rewards\n",
    "            if np.any(dones):\n",
    "                break \n",
    "        avg_score = scores.mean()\n",
    "        avg_scores_deque.append(avg_score)\n",
    "        avg_scores.append(avg_score)\n",
    "        print('\\rEpisode {}\\tCumulative Average Score: {:.2f}\\tScore: {:.2f}'\\\n",
    "              .format(i_episode, np.mean(avg_scores_deque), avg_score), end=\"\")\n",
    "        \n",
    "        if i_episode % 10 == 0:\n",
    "            print('\\rEpisode {}\\tCumulative Average Score: {:.2f}'.format(i_episode, np.mean(avg_scores_deque)))   \n",
    "        \n",
    "        if np.mean(avg_scores_deque) >= 30.0:\n",
    "            torch.save(agent.actor_local.state_dict(), 'solution_actor.pth')\n",
    "            torch.save(agent.critic_local.state_dict(), 'solution_critic.pth')\n",
    "            print('\\rEnvironment solved in {} episodes\\tCumulative Average Score: {:.2f}'\\\n",
    "                  .format(i_episode, np.mean(avg_scores_deque)))\n",
    "            break\n",
    "            \n",
    "    return avg_scores\n",
    "\n",
    "avg_scores = ddpg()\n",
    "\n",
    "fig = plt.figure()\n",
    "ax = fig.add_subplot(111)\n",
    "plt.plot(np.arange(1, len(avg_scores)+1), avg_scores)\n",
    "plt.ylabel('Score')\n",
    "plt.xlabel('Episode #')\n",
    "plt.show()"
   ]
  },
  {
   "cell_type": "code",
   "execution_count": null,
   "metadata": {},
   "outputs": [],
   "source": []
  }
 ],
 "metadata": {
  "kernelspec": {
   "display_name": "Python 3",
   "language": "python",
   "name": "python3"
  },
  "language_info": {
   "codemirror_mode": {
    "name": "ipython",
    "version": 3
   },
   "file_extension": ".py",
   "mimetype": "text/x-python",
   "name": "python",
   "nbconvert_exporter": "python",
   "pygments_lexer": "ipython3",
   "version": "3.6.3"
  }
 },
 "nbformat": 4,
 "nbformat_minor": 2
}
